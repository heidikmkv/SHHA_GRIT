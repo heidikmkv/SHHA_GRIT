{
 "cells": [
  {
   "cell_type": "markdown",
   "id": "a6b29ffc",
   "metadata": {},
   "source": [
    "# Update GRIT entries on the website"
   ]
  },
  {
   "cell_type": "code",
   "execution_count": 1,
   "id": "5727fade",
   "metadata": {},
   "outputs": [],
   "source": [
    "import pandas as pd\n",
    "import re\n",
    "import json\n",
    "import os\n",
    "from datetime import datetime\n",
    "from calendar import month_name"
   ]
  },
  {
   "cell_type": "markdown",
   "id": "033dc622",
   "metadata": {},
   "source": [
    "## read the exported json"
   ]
  },
  {
   "cell_type": "code",
   "execution_count": 7,
   "id": "9a23d102",
   "metadata": {},
   "outputs": [],
   "source": [
    "with open('content_grit.json', mode='r') as file:\n",
    "    current_data = json.load(file)"
   ]
  },
  {
   "cell_type": "code",
   "execution_count": 8,
   "id": "4d667596-452f-4229-870b-6f4907aada59",
   "metadata": {},
   "outputs": [],
   "source": [
    "current_data = current_data[1:] #remove sept\n",
    "item = current_data[0]"
   ]
  },
  {
   "cell_type": "code",
   "execution_count": 16,
   "id": "ab31e737-b1ac-4249-aad9-ffe0cb401576",
   "metadata": {},
   "outputs": [
    {
     "data": {
      "text/plain": [
       "{'id': 350,\n",
       " 'title': 'May 1979 GRIT',\n",
       " 'slug': 'may-1979-grit',\n",
       " 'is_enabled': 1,\n",
       " 'published_at': '1979-05-01 00:00:00',\n",
       " 'expired_at': None,\n",
       " 'content_group': None,\n",
       " 'grit_date': '1979-05-01 00:00:00',\n",
       " 'file': 'grit/1979/SHHA-GRIT-1979_05.pdf',\n",
       " 'image': 'grit/1979/SHHA-GRIT-1979_05.png',\n",
       " 'content': 'In 1979, the Sandia Heights Security Patrol, backed by substantial resident support, extended its operational hours to roughly 65 hours per week, focusing primarily on weekend nights. Continued contributions from residents were encouraged to augment and ameliorate service. For enhanced child safety, motorized traffic was prohibited from the ballfield/playground area, and residents were asked to advocate for maintenance priorities for Trasway Blvd. with county officials. The Sandia Heights Homeowners Association scheduled an annual meeting on May 12, 1979, with discussions on topics like annual solicitations for contributions and playground issues, and voting for filling two board seats. The residents were informed about an upcoming annual cleanup day and requested for voluntary dues to help install a grass and watering system in the playground. The Sandia Heights Swim team announced the commencement of its season the following month under new coach Livy Parsons, a highly qualified professional. Residents were advised to observe caution while driving in the vicinity to avoid accidents involving children.',\n",
       " 'category': [],\n",
       " 'articles': []}"
      ]
     },
     "execution_count": 16,
     "metadata": {},
     "output_type": "execute_result"
    }
   ],
   "source": [
    "item"
   ]
  },
  {
   "cell_type": "code",
   "execution_count": 13,
   "id": "b19400e8-7b55-49ef-8911-af9a73291bfb",
   "metadata": {},
   "outputs": [],
   "source": [
    "text_folder = '/Users/heidi/Documents/SHHA/GRIT/GRIT_archive_AI_summaries/'\n",
    "\n",
    "updated_data = []\n",
    "for item in current_data:\n",
    "    pdf = item['file']\n",
    "    year = item['file'].split('-')[-1].split('_')[0] \n",
    "    month = item['file'].split('-')[-1].split('_')[1][0:2]\n",
    "    \n",
    "    # create new item with minimum info\n",
    "    new_item = {}\n",
    "    new_item['id'] = item['id']\n",
    "    \n",
    "    # Edit image path\n",
    "    new_item['image'] = pdf[:-4] + '.png'\n",
    "\n",
    "    # Edit text path\n",
    "    '''\n",
    "    text_file = os.path.basename(item['file'])[:-4]+'_summary.txt'  \n",
    "    text_file_path = os.path.join(text_folder,year,text_file)\n",
    "    if os.path.exists(text_file_path):\n",
    "        text = open(text_file_path).read()\n",
    "        item['content'] = text\n",
    "    '''\n",
    "    updated_data.append(new_item)"
   ]
  },
  {
   "cell_type": "code",
   "execution_count": 14,
   "id": "f6190b1a-086d-41e9-979e-25e00cb65557",
   "metadata": {},
   "outputs": [],
   "source": [
    "filename = f\"content_grit_{datetime.now().strftime('%y%m%d%H%M')}.json\"\n",
    "with open(filename, 'w') as f:\n",
    "    json.dump(updated_data, f)"
   ]
  },
  {
   "cell_type": "code",
   "execution_count": 41,
   "id": "53967efa-3dcb-4506-8581-504a90ea5363",
   "metadata": {},
   "outputs": [
    {
     "data": {
      "text/plain": [
       "'12'"
      ]
     },
     "execution_count": 41,
     "metadata": {},
     "output_type": "execute_result"
    }
   ],
   "source": [
    "month"
   ]
  },
  {
   "cell_type": "code",
   "execution_count": 12,
   "id": "ca41ffd3-f703-4ce0-89a7-aa35601f2277",
   "metadata": {},
   "outputs": [
    {
     "data": {
      "text/plain": [
       "'SHHA-GRIT-1991_11_summary.txt'"
      ]
     },
     "execution_count": 12,
     "metadata": {},
     "output_type": "execute_result"
    }
   ],
   "source": [
    "text_file"
   ]
  },
  {
   "cell_type": "code",
   "execution_count": 15,
   "id": "68339c41-81a7-4c08-8225-24fb39271b41",
   "metadata": {},
   "outputs": [
    {
     "data": {
      "text/plain": [
       "'In 1979, the Sandia Heights Security Patrol, backed by substantial resident support, extended its operational hours to roughly 65 hours per week, focusing primarily on weekend nights. Continued contributions from residents were encouraged to augment and ameliorate service. For enhanced child safety, motorized traffic was prohibited from the ballfield/playground area, and residents were asked to advocate for maintenance priorities for Trasway Blvd. with county officials. The Sandia Heights Homeowners Association scheduled an annual meeting on May 12, 1979, with discussions on topics like annual solicitations for contributions and playground issues, and voting for filling two board seats. The residents were informed about an upcoming annual cleanup day and requested for voluntary dues to help install a grass and watering system in the playground. The Sandia Heights Swim team announced the commencement of its season the following month under new coach Livy Parsons, a highly qualified professional. Residents were advised to observe caution while driving in the vicinity to avoid accidents involving children.'"
      ]
     },
     "execution_count": 15,
     "metadata": {},
     "output_type": "execute_result"
    }
   ],
   "source": [
    "text"
   ]
  },
  {
   "cell_type": "markdown",
   "id": "327e66e7",
   "metadata": {
    "jp-MarkdownHeadingCollapsed": true
   },
   "source": [
    "## parse each entry and create an updated json"
   ]
  },
  {
   "cell_type": "code",
   "execution_count": 4,
   "id": "28dbc000",
   "metadata": {},
   "outputs": [],
   "source": [
    "# update the existing entries\n",
    "updated_data = []\n",
    "existing_YM_entries = []\n",
    "for item in current_data:\n",
    "    year,month = extract_year_month(item['slug'])\n",
    "    item['file'] = '/grit/'+year+'/SHHA-GRIT-'+year+'_'+month+'.pdf'\n",
    "    updated_data.append(item)\n",
    "    existing_YM_entries.append(year+month)"
   ]
  },
  {
   "cell_type": "code",
   "execution_count": 13,
   "id": "81071573",
   "metadata": {},
   "outputs": [],
   "source": [
    "#with open('updated_data.json', 'w') as json_file:\n",
    "#    json.dump(updated_data, json_file)"
   ]
  },
  {
   "cell_type": "code",
   "execution_count": 37,
   "id": "a52839f7",
   "metadata": {},
   "outputs": [],
   "source": [
    "df = pd.DataFrame(updated_data)\n",
    "\n",
    "df['Title'] = df['title']\n",
    "df['Slug'] = df['slug']\n",
    "df['Enabled Date'] = df['grit_date']\n",
    "df['File'] = df['file'] \n",
    "df['ID'] = df['id']\n",
    "df = df[['ID','Title','Slug','Enabled Date','File']]\n",
    "\n",
    "#df.to_csv('updated_data.csv')"
   ]
  },
  {
   "cell_type": "code",
   "execution_count": 39,
   "id": "915c880e",
   "metadata": {},
   "outputs": [],
   "source": [
    "df.to_csv('updated_data.csv')"
   ]
  },
  {
   "cell_type": "markdown",
   "id": "997e1b37",
   "metadata": {},
   "source": [
    "## Add in new data"
   ]
  },
  {
   "cell_type": "code",
   "execution_count": 9,
   "id": "3008ee21",
   "metadata": {},
   "outputs": [],
   "source": [
    "# Now, add data that doesn't yet exist\n",
    "\n",
    "# Find the entries that are in PDF but not in JSON\n",
    "new_YM_entries = []\n",
    "for root, dirs, files in os.walk('./GRIT_archive'):\n",
    "    for f in files:\n",
    "        if f.endswith('pdf'):\n",
    "            f = f.split('-')[-1].split('.')[0]\n",
    "            year,month = f.split('_')\n",
    "            if year+month not in existing_YM_entries:\n",
    "                new_YM_entries.append((year,month))\n",
    "new_YM_entries = sorted(new_YM_entries, key=lambda x: (x[0], x[1]), reverse=True)\n",
    "new_YM_entries = [(int(y),int(m)) for y,m in new_YM_entries]\n",
    "\n",
    "starting_id = max([int(item['id']) for item in current_data])\n",
    "data_new = []    \n",
    "for i, (year, month) in enumerate(new_YM_entries):\n",
    "    month_name_str = month_name[month]\n",
    "    grit_date = f\"{year}-{month:02d}-01 00:00:00\"\n",
    "    file_path = f\"/grit/{year}/SHHA-GRIT-{year}_{month:02d}.pdf\"\n",
    "\n",
    "    entry = {\n",
    "        'id': starting_id + i,\n",
    "        'title': f\"{month_name_str} {year} GRIT\",\n",
    "        'slug': f\"{month_name_str.lower()}-{year}-grit\",\n",
    "        'is_enabled': 1,\n",
    "        'published_at': datetime.now().strftime('%Y-%m-%d %H:%M:%S'),\n",
    "        'expired_at': None,\n",
    "        'content_group': None,\n",
    "        'grit_date': grit_date,\n",
    "        'file': file_path\n",
    "    }\n",
    "\n",
    "    data_new.append(entry)"
   ]
  },
  {
   "cell_type": "code",
   "execution_count": 40,
   "id": "8b4f8a16",
   "metadata": {},
   "outputs": [],
   "source": [
    "df = pd.DataFrame(data_new)\n",
    "\n",
    "df['Title'] = df['title']\n",
    "df['Slug'] = df['slug']\n",
    "df['Enabled Date'] = df['grit_date']\n",
    "df['File'] = df['file'] \n",
    "df['ID'] = df['id']\n",
    "df = df[['ID','Title','Slug','Enabled Date','File']]\n",
    "\n",
    "df.to_csv('data_new.csv')"
   ]
  },
  {
   "cell_type": "markdown",
   "id": "69344fe4",
   "metadata": {},
   "source": [
    "# Finally, fix the URL issue"
   ]
  },
  {
   "cell_type": "code",
   "execution_count": 42,
   "id": "db535c43",
   "metadata": {},
   "outputs": [],
   "source": [
    "df = pd.read_csv('content_grit_combined_badURL.csv')"
   ]
  },
  {
   "cell_type": "code",
   "execution_count": 44,
   "id": "6680dd58",
   "metadata": {},
   "outputs": [
    {
     "data": {
      "text/html": [
       "<div>\n",
       "<style scoped>\n",
       "    .dataframe tbody tr th:only-of-type {\n",
       "        vertical-align: middle;\n",
       "    }\n",
       "\n",
       "    .dataframe tbody tr th {\n",
       "        vertical-align: top;\n",
       "    }\n",
       "\n",
       "    .dataframe thead th {\n",
       "        text-align: right;\n",
       "    }\n",
       "</style>\n",
       "<table border=\"1\" class=\"dataframe\">\n",
       "  <thead>\n",
       "    <tr style=\"text-align: right;\">\n",
       "      <th></th>\n",
       "      <th>ID</th>\n",
       "      <th>Title</th>\n",
       "      <th>Slug</th>\n",
       "      <th>Enabled</th>\n",
       "      <th>Publish Date</th>\n",
       "      <th>Date</th>\n",
       "      <th>File</th>\n",
       "    </tr>\n",
       "  </thead>\n",
       "  <tbody>\n",
       "    <tr>\n",
       "      <th>0</th>\n",
       "      <td>94</td>\n",
       "      <td>August 2024 GRIT</td>\n",
       "      <td>august-2024-grit</td>\n",
       "      <td>1.0</td>\n",
       "      <td>2024-08-01 20:58:59</td>\n",
       "      <td>2024-08-01 20:58:59</td>\n",
       "      <td>grit/2024/SHHA-GRIT-2024_08.pdf</td>\n",
       "    </tr>\n",
       "    <tr>\n",
       "      <th>1</th>\n",
       "      <td>93</td>\n",
       "      <td>July, 2024 GRIT</td>\n",
       "      <td>july-2024-grit</td>\n",
       "      <td>1.0</td>\n",
       "      <td>2024-07-01 17:57:00</td>\n",
       "      <td>2024-07-01 17:57:00</td>\n",
       "      <td>grit/2024/SHHA-GRIT-2024_07.pdf</td>\n",
       "    </tr>\n",
       "    <tr>\n",
       "      <th>2</th>\n",
       "      <td>92</td>\n",
       "      <td>June 2024 GRIT</td>\n",
       "      <td>june-2024-grit</td>\n",
       "      <td>1.0</td>\n",
       "      <td>2024-06-01 19:53:00</td>\n",
       "      <td>2024-06-01 19:53:00</td>\n",
       "      <td>grit/2024/SHHA-GRIT-2024_06.pdf</td>\n",
       "    </tr>\n",
       "    <tr>\n",
       "      <th>3</th>\n",
       "      <td>91</td>\n",
       "      <td>May 2024 GRIT</td>\n",
       "      <td>may-2024-grit</td>\n",
       "      <td>1.0</td>\n",
       "      <td>2024-05-01 02:51:56</td>\n",
       "      <td>2024-05-01 02:51:56</td>\n",
       "      <td>grit/2024/SHHA-GRIT-2024_05.pdf</td>\n",
       "    </tr>\n",
       "    <tr>\n",
       "      <th>4</th>\n",
       "      <td>90</td>\n",
       "      <td>April 2024 GRIT</td>\n",
       "      <td>april-2024-grit</td>\n",
       "      <td>1.0</td>\n",
       "      <td>2024-04-01 17:27:12</td>\n",
       "      <td>2024-04-01 17:27:12</td>\n",
       "      <td>grit/2024/SHHA-GRIT-2024_04.pdf</td>\n",
       "    </tr>\n",
       "    <tr>\n",
       "      <th>...</th>\n",
       "      <td>...</td>\n",
       "      <td>...</td>\n",
       "      <td>...</td>\n",
       "      <td>...</td>\n",
       "      <td>...</td>\n",
       "      <td>...</td>\n",
       "      <td>...</td>\n",
       "    </tr>\n",
       "    <tr>\n",
       "      <th>344</th>\n",
       "      <td>346</td>\n",
       "      <td>August 1980 GRIT</td>\n",
       "      <td>august-1980-grit</td>\n",
       "      <td>NaN</td>\n",
       "      <td>1980-08-01 00:00:00</td>\n",
       "      <td>NaN</td>\n",
       "      <td>grit/1980/SHHA-GRIT-1980_08.pdf</td>\n",
       "    </tr>\n",
       "    <tr>\n",
       "      <th>345</th>\n",
       "      <td>347</td>\n",
       "      <td>May 1980 GRIT</td>\n",
       "      <td>may-1980-grit</td>\n",
       "      <td>NaN</td>\n",
       "      <td>1980-05-01 00:00:00</td>\n",
       "      <td>NaN</td>\n",
       "      <td>grit/1980/SHHA-GRIT-1980_05.pdf</td>\n",
       "    </tr>\n",
       "    <tr>\n",
       "      <th>346</th>\n",
       "      <td>348</td>\n",
       "      <td>February 1980 GRIT</td>\n",
       "      <td>february-1980-grit</td>\n",
       "      <td>NaN</td>\n",
       "      <td>1980-02-01 00:00:00</td>\n",
       "      <td>NaN</td>\n",
       "      <td>grit/1980/SHHA-GRIT-1980_02.pdf</td>\n",
       "    </tr>\n",
       "    <tr>\n",
       "      <th>347</th>\n",
       "      <td>349</td>\n",
       "      <td>September 1979 GRIT</td>\n",
       "      <td>september-1979-grit</td>\n",
       "      <td>NaN</td>\n",
       "      <td>1979-09-01 00:00:00</td>\n",
       "      <td>NaN</td>\n",
       "      <td>grit/1979/SHHA-GRIT-1979_09.pdf</td>\n",
       "    </tr>\n",
       "    <tr>\n",
       "      <th>348</th>\n",
       "      <td>350</td>\n",
       "      <td>May 1979 GRIT</td>\n",
       "      <td>may-1979-grit</td>\n",
       "      <td>NaN</td>\n",
       "      <td>1979-05-01 00:00:00</td>\n",
       "      <td>NaN</td>\n",
       "      <td>grit/1979/SHHA-GRIT-1979_05.pdf</td>\n",
       "    </tr>\n",
       "  </tbody>\n",
       "</table>\n",
       "<p>349 rows × 7 columns</p>\n",
       "</div>"
      ],
      "text/plain": [
       "      ID                Title                 Slug  Enabled  \\\n",
       "0     94     August 2024 GRIT     august-2024-grit      1.0   \n",
       "1     93      July, 2024 GRIT       july-2024-grit      1.0   \n",
       "2     92       June 2024 GRIT       june-2024-grit      1.0   \n",
       "3     91        May 2024 GRIT        may-2024-grit      1.0   \n",
       "4     90      April 2024 GRIT      april-2024-grit      1.0   \n",
       "..   ...                  ...                  ...      ...   \n",
       "344  346     August 1980 GRIT     august-1980-grit      NaN   \n",
       "345  347        May 1980 GRIT        may-1980-grit      NaN   \n",
       "346  348   February 1980 GRIT   february-1980-grit      NaN   \n",
       "347  349  September 1979 GRIT  september-1979-grit      NaN   \n",
       "348  350        May 1979 GRIT        may-1979-grit      NaN   \n",
       "\n",
       "            Publish Date                 Date                             File  \n",
       "0    2024-08-01 20:58:59  2024-08-01 20:58:59  grit/2024/SHHA-GRIT-2024_08.pdf  \n",
       "1    2024-07-01 17:57:00  2024-07-01 17:57:00  grit/2024/SHHA-GRIT-2024_07.pdf  \n",
       "2    2024-06-01 19:53:00  2024-06-01 19:53:00  grit/2024/SHHA-GRIT-2024_06.pdf  \n",
       "3    2024-05-01 02:51:56  2024-05-01 02:51:56  grit/2024/SHHA-GRIT-2024_05.pdf  \n",
       "4    2024-04-01 17:27:12  2024-04-01 17:27:12  grit/2024/SHHA-GRIT-2024_04.pdf  \n",
       "..                   ...                  ...                              ...  \n",
       "344  1980-08-01 00:00:00                  NaN  grit/1980/SHHA-GRIT-1980_08.pdf  \n",
       "345  1980-05-01 00:00:00                  NaN  grit/1980/SHHA-GRIT-1980_05.pdf  \n",
       "346  1980-02-01 00:00:00                  NaN  grit/1980/SHHA-GRIT-1980_02.pdf  \n",
       "347  1979-09-01 00:00:00                  NaN  grit/1979/SHHA-GRIT-1979_09.pdf  \n",
       "348  1979-05-01 00:00:00                  NaN  grit/1979/SHHA-GRIT-1979_05.pdf  \n",
       "\n",
       "[349 rows x 7 columns]"
      ]
     },
     "execution_count": 44,
     "metadata": {},
     "output_type": "execute_result"
    }
   ],
   "source": [
    "df['File'] = df['File'].apply(lambda x: x[1:] if isinstance(x, str) else x)\n",
    "df"
   ]
  },
  {
   "cell_type": "code",
   "execution_count": 45,
   "id": "77145567",
   "metadata": {},
   "outputs": [],
   "source": [
    "df.to_csv('content_fixed_filepaths.csv')"
   ]
  },
  {
   "cell_type": "code",
   "execution_count": null,
   "id": "9808f94e",
   "metadata": {},
   "outputs": [],
   "source": []
  }
 ],
 "metadata": {
  "kernelspec": {
   "display_name": "sci_basic",
   "language": "python",
   "name": "sci_basic"
  },
  "language_info": {
   "codemirror_mode": {
    "name": "ipython",
    "version": 3
   },
   "file_extension": ".py",
   "mimetype": "text/x-python",
   "name": "python",
   "nbconvert_exporter": "python",
   "pygments_lexer": "ipython3",
   "version": "3.9.12"
  }
 },
 "nbformat": 4,
 "nbformat_minor": 5
}
