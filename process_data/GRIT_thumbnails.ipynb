{
 "cells": [
  {
   "cell_type": "markdown",
   "id": "35667392-0029-4e27-a2da-cc8eb7bf9766",
   "metadata": {},
   "source": [
    "# Generate thumbnails of every GRIT issue\n",
    "Save png thumbnails 600*400px, in the same folder structure as the PDFs, with the first PDF page centered on a white background."
   ]
  },
  {
   "cell_type": "code",
   "execution_count": 1,
   "id": "0bb2f7f9-b53c-4cb7-95b1-d820189ff82a",
   "metadata": {},
   "outputs": [],
   "source": [
    "import os\n",
    "import fitz  # PyMuPDF\n",
    "from PIL import Image, ImageOps\n",
    "\n",
    "def create_folder_structure(src, dst):\n",
    "    for dirpath, dirnames, filenames in os.walk(src):\n",
    "        structure = os.path.join(dst, os.path.relpath(dirpath, src))\n",
    "        if not os.path.exists(structure):\n",
    "            os.makedirs(structure)\n",
    "\n",
    "def save_first_page_image(pdf_path, output_path):\n",
    "    doc = fitz.open(pdf_path)\n",
    "    page = doc.load_page(0)  # First page\n",
    "    pix = page.get_pixmap()\n",
    "    \n",
    "    # Convert pixmap to PIL Image\n",
    "    img = Image.frombytes(\"RGB\", [pix.width, pix.height], pix.samples)\n",
    "    \n",
    "    # OPTION 1: Crop to 600x400 pixels, keeping the top of the page\n",
    "    #cropped_img = img.crop((0, 0, 600, 400))\n",
    "    #cropped_img.save(output_path)\n",
    "\n",
    "    # OPTION 2: Center the whole page image in 600*400px white background\n",
    "    # Calculate the new width while keeping aspect ratio\n",
    "    new_height = 400\n",
    "    aspect_ratio = img.width / img.height\n",
    "    new_width = int(aspect_ratio * new_height)\n",
    "    \n",
    "    # Resize the image\n",
    "    resized_img = img.resize((new_width, new_height))\n",
    "    \n",
    "    # Create a white background (600x400)\n",
    "    background = Image.new('RGB', (600, 400), (255, 255, 255))\n",
    "    \n",
    "    # Center the resized image on the background\n",
    "    offset = ((600 - new_width) // 2, 0)  # Center horizontally\n",
    "    background.paste(resized_img, offset)\n",
    "    \n",
    "    # Save the final image\n",
    "    background.save(output_path)\n",
    "\n",
    "   \n",
    "\n",
    "def process_pdfs_in_folders(src, dst):\n",
    "    create_folder_structure(src, dst)\n",
    "    for dirpath, _, filenames in os.walk(src):\n",
    "        for filename in filenames:\n",
    "            if filename.endswith('.pdf'):\n",
    "                pdf_path = os.path.join(dirpath, filename)\n",
    "                relative_path = os.path.relpath(dirpath, src)\n",
    "                output_dir = os.path.join(dst, relative_path)\n",
    "                output_file = os.path.join(output_dir, os.path.splitext(filename)[0] + \".png\")\n",
    "                \n",
    "                save_first_page_image(pdf_path, output_file)"
   ]
  },
  {
   "cell_type": "code",
   "execution_count": 5,
   "id": "cf661740-abe1-4ac9-9ef7-1a0b129e71b5",
   "metadata": {},
   "outputs": [],
   "source": [
    "source_folder = '/Users/heidi/Documents/SHHA/GRIT/GRIT_archive_PDFs/' \n",
    "destination_folder = '/Users/heidi/Documents/SHHA/GRIT/GRIT_archive_thumbnails_fullpage/' \n",
    "\n",
    "process_pdfs_in_folders(source_folder, destination_folder)\n"
   ]
  },
  {
   "cell_type": "code",
   "execution_count": 6,
   "id": "59dd017b-04aa-4bab-86a3-83177c24b16a",
   "metadata": {},
   "outputs": [
    {
     "data": {
      "text/plain": [
       "349"
      ]
     },
     "execution_count": 6,
     "metadata": {},
     "output_type": "execute_result"
    }
   ],
   "source": [
    "# Count files\n",
    "\n",
    "folder_to_count_files = '/Users/heidi/Documents/SHHA/GRIT/GRIT_archive_thumbnails_fullpage/'\n",
    "file_extension = 'png'\n",
    "\n",
    "sum([1 for _, _, files in os.walk(folder_to_count_files) for file in files if file.endswith(file_extension)])"
   ]
  },
  {
   "cell_type": "code",
   "execution_count": null,
   "id": "7d1b2899-e593-4a6b-b0f6-be86b0c2ebfd",
   "metadata": {},
   "outputs": [],
   "source": []
  }
 ],
 "metadata": {
  "kernelspec": {
   "display_name": "chatgpt",
   "language": "python",
   "name": "chatgpt"
  },
  "language_info": {
   "codemirror_mode": {
    "name": "ipython",
    "version": 3
   },
   "file_extension": ".py",
   "mimetype": "text/x-python",
   "name": "python",
   "nbconvert_exporter": "python",
   "pygments_lexer": "ipython3",
   "version": "3.9.12"
  }
 },
 "nbformat": 4,
 "nbformat_minor": 5
}
