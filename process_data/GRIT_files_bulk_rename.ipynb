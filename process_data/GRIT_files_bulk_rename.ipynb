{
 "cells": [
  {
   "cell_type": "markdown",
   "id": "ac754da2",
   "metadata": {},
   "source": [
    "# Rename irregularly named files into a standard format\n",
    "\n",
    "Starting point: \n",
    "Folders named by year with a variety of filenames within, each indicating either month or season. \n",
    "\n",
    "Ending point: \n",
    "A regular folder structure and regular filenames indicating month and year of publication."
   ]
  },
  {
   "cell_type": "code",
   "execution_count": 5,
   "id": "7ba2f5ae",
   "metadata": {},
   "outputs": [],
   "source": [
    "import os\n",
    "import re\n",
    "import shutil\n",
    "from pathlib import Path\n",
    "\n",
    "# Dictionary to map month names, abbreviations, and seasons to month numbers\n",
    "MONTH_MAP = {\n",
    "    \"january\": \"01\", \"jan\": \"01\",\n",
    "    \"february\": \"02\", \"feb\": \"02\",\n",
    "    \"march\": \"03\", \"mar\": \"03\",\n",
    "    \"april\": \"04\", \"apr\": \"04\",\n",
    "    \"may\": \"05\",\n",
    "    \"june\": \"06\", \"jun\": \"06\",\n",
    "    \"july\": \"07\", \"jul\": \"07\",\n",
    "    \"august\": \"08\", \"aug\": \"08\",\n",
    "    \"september\": \"09\", \"sep\": \"09\", \"sept\": \"09\",\n",
    "    \"october\": \"10\", \"oct\": \"10\",\n",
    "    \"november\": \"11\", \"nov\": \"11\",\n",
    "    \"december\": \"12\", \"dec\": \"12\",\n",
    "    \"winter\": \"01\", \"spring\": \"03\", \"summer\": \"06\", \"fall\": \"09\", \"autumn\": \"09\",\n",
    "}\n",
    "\n",
    "# Regular expression to capture numeric months (e.g., 01, 1, etc.)\n",
    "MONTH_NUM_REGEX = re.compile(r'(\\d{1,2})')\n",
    "\n",
    "# Function to detect month from filename\n",
    "def detect_month(filename):\n",
    "    filename_lower = filename.lower()\n",
    "    \n",
    "    # Check for month names or seasons\n",
    "    for month_name, month_num in MONTH_MAP.items():\n",
    "        if month_name in filename_lower:\n",
    "            return month_num\n",
    "    \n",
    "    # Check for numeric month (e.g., 01, 1, etc.)\n",
    "    month_match = MONTH_NUM_REGEX.search(filename_lower)\n",
    "    if month_match:\n",
    "        month = month_match.group(1).zfill(2)  # Pad with zero if needed\n",
    "        if 1 <= int(month) <= 12:  # Ensure it's a valid month\n",
    "            return month\n",
    "    \n",
    "    return None\n",
    "\n",
    "# Function to copy files to a new folder with subfolders by year, keeping only the largest file per year/month\n",
    "def copy_largest_files_to_year_folders(base_folder, destination_folder):\n",
    "    base_path = Path(base_folder)\n",
    "    dest_path = Path(destination_folder)\n",
    "    \n",
    "    # Ensure the destination folder exists\n",
    "    dest_path.mkdir(parents=True, exist_ok=True)\n",
    "    \n",
    "    # Dictionary to track the largest file for each year/month\n",
    "    largest_files = {}\n",
    "    \n",
    "    for year_folder in base_path.iterdir():\n",
    "        if year_folder.is_dir() and year_folder.name.isdigit():  # Year subfolders\n",
    "            year = year_folder.name\n",
    "            \n",
    "            for file_path in year_folder.glob(\"*.pdf\"):  # Look for PDF files\n",
    "                month = detect_month(file_path.name)\n",
    "                \n",
    "                if month:\n",
    "                    year_month = f\"{year}_{month}\"\n",
    "                    \n",
    "                    # Compare file size to determine if this file should be kept\n",
    "                    if (year_month not in largest_files) or (file_path.stat().st_size > largest_files[year_month].stat().st_size):\n",
    "                        largest_files[year_month] = file_path\n",
    "    \n",
    "    # Copy the largest files to the destination folder\n",
    "    for year_month, file_path in largest_files.items():\n",
    "        year, month = year_month.split(\"_\")\n",
    "        year_dest_folder = dest_path / year\n",
    "        year_dest_folder.mkdir(exist_ok=True)\n",
    "        \n",
    "        new_filename = f\"SHHA-GRIT-{year}_{month}.pdf\"\n",
    "        new_file_path = year_dest_folder / new_filename\n",
    "        \n",
    "        shutil.copy(file_path, new_file_path)\n",
    "\n",
    "\n"
   ]
  },
  {
   "cell_type": "code",
   "execution_count": 6,
   "id": "724b5993",
   "metadata": {},
   "outputs": [],
   "source": [
    "# Example usage\n",
    "base_folder = \"/Users/heidi/Documents/SHHA/GRIT/GRIT Archive **\"\n",
    "destination_folder = \"/Users/heidi/Documents/SHHA/GRIT/GRIT_archive\"\n",
    "copy_largest_files_to_year_folders(base_folder, destination_folder)"
   ]
  },
  {
   "cell_type": "code",
   "execution_count": 7,
   "id": "babf90d7",
   "metadata": {},
   "outputs": [],
   "source": [
    "from pathlib import Path\n",
    "\n",
    "def count_pdf_files(folder):\n",
    "    \"\"\"\n",
    "    Count the number of PDF files in a folder, including all subfolders.\n",
    "    \n",
    "    :param folder: The path to the folder to count PDF files in.\n",
    "    :return: The total number of PDF files found.\n",
    "    \"\"\"\n",
    "    folder_path = Path(folder)\n",
    "    return len(list(folder_path.rglob(\"*.pdf\")))"
   ]
  },
  {
   "cell_type": "code",
   "execution_count": 8,
   "id": "ac6330de",
   "metadata": {},
   "outputs": [
    {
     "data": {
      "text/plain": [
       "341"
      ]
     },
     "execution_count": 8,
     "metadata": {},
     "output_type": "execute_result"
    }
   ],
   "source": [
    "count_pdf_files(destination_folder)"
   ]
  },
  {
   "cell_type": "code",
   "execution_count": 9,
   "id": "329677e1",
   "metadata": {},
   "outputs": [
    {
     "data": {
      "text/plain": [
       "356"
      ]
     },
     "execution_count": 9,
     "metadata": {},
     "output_type": "execute_result"
    }
   ],
   "source": [
    "count_pdf_files(base_folder)"
   ]
  },
  {
   "cell_type": "code",
   "execution_count": 12,
   "id": "0dec2067",
   "metadata": {},
   "outputs": [],
   "source": [
    "# Write file structure to a text file\n",
    "\n",
    "import os\n",
    "\n",
    "folder_path = 'GRIT_archive'\n",
    "output_file = 'folder_structure.txt'\n",
    "\n",
    "with open(output_file, 'w') as f:\n",
    "    for root, dirs, files in os.walk(folder_path):\n",
    "        level = root.replace(folder_path, '').count(os.sep)\n",
    "        indent = ' ' * 4 * level\n",
    "        f.write(f'{indent}{os.path.basename(root)}/\\n')\n",
    "        sub_indent = ' ' * 4 * (level + 1)\n",
    "        for file in files:\n",
    "            f.write(f'{sub_indent}{file}\\n')"
   ]
  },
  {
   "cell_type": "code",
   "execution_count": null,
   "id": "46af0f05",
   "metadata": {},
   "outputs": [],
   "source": []
  }
 ],
 "metadata": {
  "kernelspec": {
   "display_name": "sci_basic",
   "language": "python",
   "name": "sci_basic"
  },
  "language_info": {
   "codemirror_mode": {
    "name": "ipython",
    "version": 3
   },
   "file_extension": ".py",
   "mimetype": "text/x-python",
   "name": "python",
   "nbconvert_exporter": "python",
   "pygments_lexer": "ipython3",
   "version": "3.9.12"
  }
 },
 "nbformat": 4,
 "nbformat_minor": 5
}
